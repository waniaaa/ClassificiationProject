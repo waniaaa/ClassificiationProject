{
  "nbformat": 4,
  "nbformat_minor": 0,
  "metadata": {
    "colab": {
      "name": "414 Project.ipynb",
      "provenance": [],
      "collapsed_sections": []
    },
    "kernelspec": {
      "name": "python3",
      "display_name": "Python 3"
    },
    "language_info": {
      "name": "python"
    }
  },
  "cells": [
    {
      "cell_type": "markdown",
      "metadata": {
        "id": "wkPaFYAjy4e3"
      },
      "source": [
        "Team Members: Laraib Zia, Iman Durrani, Wania Ismail, Saad Peshiman"
      ]
    },
    {
      "cell_type": "markdown",
      "metadata": {
        "id": "esrUCaghvYnj"
      },
      "source": [
        "Introduction: \n",
        "\n",
        "We sourced our data from a Kaggle Dataset which included variables such as age, work class, education, race relationship status, and other variables. The variable that we looked to analyze was income level of being either above 50K or below 50K. We wanted to answer the questions of which variables had impacts on income being above 50K or below 50K.\n",
        "\n",
        "\n",
        "Data prep:\n",
        "\n",
        "We prepared our data by creating a clean dataframe called income by dropping all rows with at least 1 NA. This left the dataset with 30162 rows. We then dropped columns which had lowest correlations to the target variable (income >50K), and ones we didn't think would have an impact(capital-loss, native-country, relationship) based on the results from the heatmapping and wrangled data. Finally, we used pandas and numpy to wrangle the data and convert categorical variables to dummy variables in order to run the models.\n",
        "\n",
        "\n",
        "EDA:\n",
        "\n",
        "We used .info(), .head(), and .shape() methods to better understand the dataframes. In order to explore the variables, we made a few plots using seaborn. We plotted the counts of education, race, age, and income >50K. We also plotted barplots of education v income and workclass v income. The analysis methods we utilized include Logistic Regression, Decision Tree Classification, XGBoost, and Neural Networks. Some of the packages we used include pandas, numpy, matplotlib, pyplot, seaborn, sklearn, torch, and torchvision. \n",
        "\n",
        "Analysis:\n",
        "\n",
        "For our dataset, we can conclude that the most fitting algorithm is the XGboost model with an accuracy of 0.851. This is followed by logistic regression (0.839), keras (0.838), and decision tree (0.800). XGboost is the most ideal algorithm evaluation technique for larger datasets, which was optimal for our dataset containing over 30k values. Not only is it one of the quickest algorithms, it was also able to give the most accuracy, making it the most optimal evaluation technique for further predictions. However, one of the disadvantages is that it has the ability to contain high variance, from which variation between the test and training datasets can cause consequential discrepancies with estimating model accuracy.\n"
      ]
    },
    {
      "cell_type": "code",
      "metadata": {
        "id": "SKOeQkBq72EU"
      },
      "source": [
        "import pandas as pd\n",
        "import numpy as np\n",
        "\n",
        "import matplotlib.pyplot as plt\n",
        "import seaborn as sns\n",
        "from matplotlib import pyplot\n",
        "\n",
        "import sklearn\n",
        "from sklearn.model_selection import train_test_split\n",
        "from sklearn.linear_model import LogisticRegression\n",
        "from sklearn import preprocessing\n",
        "from sklearn import tree\n",
        "from sklearn.metrics import accuracy_score\n",
        "from sklearn.metrics import classification_report, confusion_matrix\n",
        "from sklearn.tree import DecisionTreeClassifier\n",
        "from sklearn.metrics import mean_squared_error as MSE\n",
        "from sklearn.datasets import make_classification\n",
        "from sklearn.tree import DecisionTreeClassifier\n",
        "\n",
        "import xgboost as xgb\n",
        "from xgboost import plot_importance\n",
        "\n",
        "%matplotlib inline"
      ],
      "execution_count": null,
      "outputs": []
    },
    {
      "cell_type": "code",
      "metadata": {
        "colab": {
          "base_uri": "https://localhost:8080/",
          "height": 343
        },
        "id": "6hHsPIc38sc4",
        "outputId": "2dded012-c768-465e-f2e3-bfbb299e5442"
      },
      "source": [
        "income_df = pd.read_csv(\"income.csv\")\n",
        "income_df.head()\n",
        "#outcome variable - income >50K; 0: not greater than 50k, 1: greater than 50K"
      ],
      "execution_count": null,
      "outputs": [
        {
          "output_type": "execute_result",
          "data": {
            "text/html": [
              "<div>\n",
              "<style scoped>\n",
              "    .dataframe tbody tr th:only-of-type {\n",
              "        vertical-align: middle;\n",
              "    }\n",
              "\n",
              "    .dataframe tbody tr th {\n",
              "        vertical-align: top;\n",
              "    }\n",
              "\n",
              "    .dataframe thead th {\n",
              "        text-align: right;\n",
              "    }\n",
              "</style>\n",
              "<table border=\"1\" class=\"dataframe\">\n",
              "  <thead>\n",
              "    <tr style=\"text-align: right;\">\n",
              "      <th></th>\n",
              "      <th>age</th>\n",
              "      <th>workclass</th>\n",
              "      <th>education</th>\n",
              "      <th>education-num</th>\n",
              "      <th>marital-status</th>\n",
              "      <th>occupation</th>\n",
              "      <th>relationship</th>\n",
              "      <th>race</th>\n",
              "      <th>sex</th>\n",
              "      <th>capital-gain</th>\n",
              "      <th>capital-loss</th>\n",
              "      <th>hours-per-week</th>\n",
              "      <th>native-country</th>\n",
              "      <th>income &gt;50K</th>\n",
              "    </tr>\n",
              "  </thead>\n",
              "  <tbody>\n",
              "    <tr>\n",
              "      <th>0</th>\n",
              "      <td>39</td>\n",
              "      <td>State-gov</td>\n",
              "      <td>Bachelors</td>\n",
              "      <td>13</td>\n",
              "      <td>Never-married</td>\n",
              "      <td>Adm-clerical</td>\n",
              "      <td>Not-in-family</td>\n",
              "      <td>White</td>\n",
              "      <td>Male</td>\n",
              "      <td>2174</td>\n",
              "      <td>0</td>\n",
              "      <td>40</td>\n",
              "      <td>United-States</td>\n",
              "      <td>0</td>\n",
              "    </tr>\n",
              "    <tr>\n",
              "      <th>1</th>\n",
              "      <td>50</td>\n",
              "      <td>Self-emp-not-inc</td>\n",
              "      <td>Bachelors</td>\n",
              "      <td>13</td>\n",
              "      <td>Married-civ-spouse</td>\n",
              "      <td>Exec-managerial</td>\n",
              "      <td>Husband</td>\n",
              "      <td>White</td>\n",
              "      <td>Male</td>\n",
              "      <td>0</td>\n",
              "      <td>0</td>\n",
              "      <td>13</td>\n",
              "      <td>United-States</td>\n",
              "      <td>0</td>\n",
              "    </tr>\n",
              "    <tr>\n",
              "      <th>2</th>\n",
              "      <td>38</td>\n",
              "      <td>Private</td>\n",
              "      <td>HS-grad</td>\n",
              "      <td>9</td>\n",
              "      <td>Divorced</td>\n",
              "      <td>Handlers-cleaners</td>\n",
              "      <td>Not-in-family</td>\n",
              "      <td>White</td>\n",
              "      <td>Male</td>\n",
              "      <td>0</td>\n",
              "      <td>0</td>\n",
              "      <td>40</td>\n",
              "      <td>United-States</td>\n",
              "      <td>0</td>\n",
              "    </tr>\n",
              "    <tr>\n",
              "      <th>3</th>\n",
              "      <td>53</td>\n",
              "      <td>Private</td>\n",
              "      <td>11th</td>\n",
              "      <td>7</td>\n",
              "      <td>Married-civ-spouse</td>\n",
              "      <td>Handlers-cleaners</td>\n",
              "      <td>Husband</td>\n",
              "      <td>Black</td>\n",
              "      <td>Male</td>\n",
              "      <td>0</td>\n",
              "      <td>0</td>\n",
              "      <td>40</td>\n",
              "      <td>United-States</td>\n",
              "      <td>0</td>\n",
              "    </tr>\n",
              "    <tr>\n",
              "      <th>4</th>\n",
              "      <td>28</td>\n",
              "      <td>Private</td>\n",
              "      <td>Bachelors</td>\n",
              "      <td>13</td>\n",
              "      <td>Married-civ-spouse</td>\n",
              "      <td>Prof-specialty</td>\n",
              "      <td>Wife</td>\n",
              "      <td>Black</td>\n",
              "      <td>Female</td>\n",
              "      <td>0</td>\n",
              "      <td>0</td>\n",
              "      <td>40</td>\n",
              "      <td>Cuba</td>\n",
              "      <td>0</td>\n",
              "    </tr>\n",
              "  </tbody>\n",
              "</table>\n",
              "</div>"
            ],
            "text/plain": [
              "   age         workclass  education  ...  hours-per-week native-country income >50K\n",
              "0   39         State-gov  Bachelors  ...              40  United-States           0\n",
              "1   50  Self-emp-not-inc  Bachelors  ...              13  United-States           0\n",
              "2   38           Private    HS-grad  ...              40  United-States           0\n",
              "3   53           Private       11th  ...              40  United-States           0\n",
              "4   28           Private  Bachelors  ...              40           Cuba           0\n",
              "\n",
              "[5 rows x 14 columns]"
            ]
          },
          "metadata": {
            "tags": []
          },
          "execution_count": 2
        }
      ]
    },
    {
      "cell_type": "code",
      "metadata": {
        "colab": {
          "base_uri": "https://localhost:8080/"
        },
        "id": "loz8lGB7Ao2X",
        "outputId": "28743499-c9c8-4b0d-ae95-5b50601d7e9f"
      },
      "source": [
        "#income_df.info() 32561 total rows before cleaning \n",
        "#income_df.isnull().sum() # null values in workclass (object), occupation (object), and native-country (object)\n",
        "\n",
        "#create clean df called income by dropping all rows with at least 1 NA (30162 rows left)\n",
        "income = income_df.dropna()\n",
        "income.info()\n",
        "income.isnull().sum()\n"
      ],
      "execution_count": null,
      "outputs": [
        {
          "output_type": "stream",
          "text": [
            "<class 'pandas.core.frame.DataFrame'>\n",
            "Int64Index: 30162 entries, 0 to 32560\n",
            "Data columns (total 14 columns):\n",
            " #   Column          Non-Null Count  Dtype \n",
            "---  ------          --------------  ----- \n",
            " 0   age             30162 non-null  int64 \n",
            " 1   workclass       30162 non-null  object\n",
            " 2   education       30162 non-null  object\n",
            " 3   education-num   30162 non-null  int64 \n",
            " 4   marital-status  30162 non-null  object\n",
            " 5   occupation      30162 non-null  object\n",
            " 6   relationship    30162 non-null  object\n",
            " 7   race            30162 non-null  object\n",
            " 8   sex             30162 non-null  object\n",
            " 9   capital-gain    30162 non-null  int64 \n",
            " 10  capital-loss    30162 non-null  int64 \n",
            " 11  hours-per-week  30162 non-null  int64 \n",
            " 12  native-country  30162 non-null  object\n",
            " 13  income >50K     30162 non-null  int64 \n",
            "dtypes: int64(6), object(8)\n",
            "memory usage: 3.5+ MB\n"
          ],
          "name": "stdout"
        },
        {
          "output_type": "execute_result",
          "data": {
            "text/plain": [
              "age               0\n",
              "workclass         0\n",
              "education         0\n",
              "education-num     0\n",
              "marital-status    0\n",
              "occupation        0\n",
              "relationship      0\n",
              "race              0\n",
              "sex               0\n",
              "capital-gain      0\n",
              "capital-loss      0\n",
              "hours-per-week    0\n",
              "native-country    0\n",
              "income >50K       0\n",
              "dtype: int64"
            ]
          },
          "metadata": {
            "tags": []
          },
          "execution_count": 3
        }
      ]
    },
    {
      "cell_type": "code",
      "metadata": {
        "colab": {
          "base_uri": "https://localhost:8080/",
          "height": 592
        },
        "id": "pxZdLzZDZM8d",
        "outputId": "7f4439c5-9d76-4600-8bc2-a773a2a031c3"
      },
      "source": [
        "# education v income\n",
        "ed_v_income = sns.barplot(x=\"education\", y=\"income >50K\", data = income)\n",
        "ed_v_income.set_xticklabels(ed_v_income.get_xticklabels(), rotation=40, ha=\"right\")"
      ],
      "execution_count": null,
      "outputs": [
        {
          "output_type": "execute_result",
          "data": {
            "text/plain": [
              "[Text(0, 0, 'Bachelors'),\n",
              " Text(0, 0, 'HS-grad'),\n",
              " Text(0, 0, '11th'),\n",
              " Text(0, 0, 'Masters'),\n",
              " Text(0, 0, '9th'),\n",
              " Text(0, 0, 'Some-college'),\n",
              " Text(0, 0, 'Assoc-acdm'),\n",
              " Text(0, 0, '7th-8th'),\n",
              " Text(0, 0, 'Doctorate'),\n",
              " Text(0, 0, 'Assoc-voc'),\n",
              " Text(0, 0, 'Prof-school'),\n",
              " Text(0, 0, '5th-6th'),\n",
              " Text(0, 0, '10th'),\n",
              " Text(0, 0, 'Preschool'),\n",
              " Text(0, 0, '12th'),\n",
              " Text(0, 0, '1st-4th')]"
            ]
          },
          "metadata": {
            "tags": []
          },
          "execution_count": 26
        },
        {
          "output_type": "display_data",
          "data": {
            "image/png": "[encoded data removed]",
            "text/plain": [
              "<Figure size 432x288 with 1 Axes>"
            ]
          },
          "metadata": {
            "tags": [],
            "needs_background": "light"
          }
        }
      ]
    },
    {
      "cell_type": "code",
      "metadata": {
        "colab": {
          "base_uri": "https://localhost:8080/",
          "height": 449
        },
        "id": "ssKzORzoZy6V",
        "outputId": "a6b6166f-c675-434c-ae58-3177bde81439"
      },
      "source": [
        "#age v income\n",
        "age_v_income = sns.barplot(x=\"workclass\", y=\"income >50K\", data = income)\n",
        "age_v_income.set_xticklabels(age_v_income.get_xticklabels(), rotation=40, ha=\"right\")"
      ],
      "execution_count": null,
      "outputs": [
        {
          "output_type": "execute_result",
          "data": {
            "text/plain": [
              "[Text(0, 0, 'State-gov'),\n",
              " Text(0, 0, 'Self-emp-not-inc'),\n",
              " Text(0, 0, 'Private'),\n",
              " Text(0, 0, 'Federal-gov'),\n",
              " Text(0, 0, 'Local-gov'),\n",
              " Text(0, 0, 'Self-emp-inc'),\n",
              " Text(0, 0, 'Without-pay')]"
            ]
          },
          "metadata": {
            "tags": []
          },
          "execution_count": 33
        },
        {
          "output_type": "display_data",
          "data": {
            "image/png": "[encoded data removed]",
            "text/plain": [
              "<Figure size 432x288 with 1 Axes>"
            ]
          },
          "metadata": {
            "tags": [],
            "needs_background": "light"
          }
        }
      ]
    },
    {
      "cell_type": "code",
      "metadata": {
        "colab": {
          "base_uri": "https://localhost:8080/",
          "height": 471
        },
        "id": "c3tYy3QxI-a1",
        "outputId": "37408732-a99b-476e-ffe0-0fb2c52fb94c"
      },
      "source": [
        "#Using Seaborn to visualize the counts of age\n",
        "\n",
        "with sns.axes_style('white'):\n",
        "    g = sns.factorplot(\"age\", data=income, aspect=2,\n",
        "                       kind=\"count\", color='steelblue')\n",
        "    g.set_xticklabels(step=5)\n",
        "\n"
      ],
      "execution_count": null,
      "outputs": [
        {
          "output_type": "stream",
          "text": [
            "/usr/local/lib/python3.7/dist-packages/seaborn/categorical.py:3714: UserWarning: The `factorplot` function has been renamed to `catplot`. The original name will be removed in a future release. Please update your code. Note that the default `kind` in `factorplot` (`'point'`) has changed `'strip'` in `catplot`.\n",
            "  warnings.warn(msg)\n",
            "/usr/local/lib/python3.7/dist-packages/seaborn/_decorators.py:43: FutureWarning: Pass the following variable as a keyword arg: x. From version 0.12, the only valid positional argument will be `data`, and passing other arguments without an explicit keyword will result in an error or misinterpretation.\n",
            "  FutureWarning\n"
          ],
          "name": "stderr"
        },
        {
          "output_type": "display_data",
          "data": {
            "image/png": "[encoded data removed]",
            "text/plain": [
              "<Figure size 720x360 with 1 Axes>"
            ]
          },
          "metadata": {
            "tags": []
          }
        }
      ]
    },
    {
      "cell_type": "code",
      "metadata": {
        "colab": {
          "base_uri": "https://localhost:8080/",
          "height": 471
        },
        "id": "AFQIHIZFRYVl",
        "outputId": "c097ab91-146f-46b3-a935-9af7d70b5d41"
      },
      "source": [
        "#Sns plot for counts of education \n",
        "\n",
        "with sns.axes_style():\n",
        "    g = sns.factorplot(\"education\", data=income, aspect=2,\n",
        "                       kind=\"count\", color='steelblue')\n",
        "    g.set_xticklabels(step=5)"
      ],
      "execution_count": null,
      "outputs": [
        {
          "output_type": "stream",
          "text": [
            "/usr/local/lib/python3.7/dist-packages/seaborn/categorical.py:3714: UserWarning: The `factorplot` function has been renamed to `catplot`. The original name will be removed in a future release. Please update your code. Note that the default `kind` in `factorplot` (`'point'`) has changed `'strip'` in `catplot`.\n",
            "  warnings.warn(msg)\n",
            "/usr/local/lib/python3.7/dist-packages/seaborn/_decorators.py:43: FutureWarning: Pass the following variable as a keyword arg: x. From version 0.12, the only valid positional argument will be `data`, and passing other arguments without an explicit keyword will result in an error or misinterpretation.\n",
            "  FutureWarning\n"
          ],
          "name": "stderr"
        },
        {
          "output_type": "display_data",
          "data": {
            "image/png": "[encoded data removed]",
            "text/plain": [
              "<Figure size 720x360 with 1 Axes>"
            ]
          },
          "metadata": {
            "tags": [],
            "needs_background": "light"
          }
        }
      ]
    },
    {
      "cell_type": "code",
      "metadata": {
        "colab": {
          "base_uri": "https://localhost:8080/",
          "height": 471
        },
        "id": "1qZYD38ZTYUg",
        "outputId": "06109975-b47a-4fb3-9dd6-d2f3611de545"
      },
      "source": [
        "#Sns plot for counts of income\n",
        "\n",
        "with sns.axes_style():\n",
        "    g = sns.factorplot(\"race\", data=income, aspect=2,\n",
        "                       kind=\"count\", color='steelblue')\n",
        "    g.set_xticklabels(step=5)"
      ],
      "execution_count": null,
      "outputs": [
        {
          "output_type": "stream",
          "text": [
            "/usr/local/lib/python3.7/dist-packages/seaborn/categorical.py:3714: UserWarning: The `factorplot` function has been renamed to `catplot`. The original name will be removed in a future release. Please update your code. Note that the default `kind` in `factorplot` (`'point'`) has changed `'strip'` in `catplot`.\n",
            "  warnings.warn(msg)\n",
            "/usr/local/lib/python3.7/dist-packages/seaborn/_decorators.py:43: FutureWarning: Pass the following variable as a keyword arg: x. From version 0.12, the only valid positional argument will be `data`, and passing other arguments without an explicit keyword will result in an error or misinterpretation.\n",
            "  FutureWarning\n"
          ],
          "name": "stderr"
        },
        {
          "output_type": "display_data",
          "data": {
            "image/png": "[encoded data removed]",
            "text/plain": [
              "<Figure size 720x360 with 1 Axes>"
            ]
          },
          "metadata": {
            "tags": [],
            "needs_background": "light"
          }
        }
      ]
    },
    {
      "cell_type": "code",
      "metadata": {
        "colab": {
          "base_uri": "https://localhost:8080/"
        },
        "id": "zUoARwfJJ2R2",
        "outputId": "308fc86d-947e-4cc2-96f4-779f38c3b15d"
      },
      "source": [
        "#Using Seaborn to visualize the income>50K count of the data \n",
        "\n",
        "income['income >50K'].value_counts()"
      ],
      "execution_count": null,
      "outputs": [
        {
          "output_type": "execute_result",
          "data": {
            "text/plain": [
              "0    22654\n",
              "1     7508\n",
              "Name: income >50K, dtype: int64"
            ]
          },
          "metadata": {
            "tags": []
          },
          "execution_count": 8
        }
      ]
    },
    {
      "cell_type": "code",
      "metadata": {
        "colab": {
          "base_uri": "https://localhost:8080/",
          "height": 833
        },
        "id": "fNE7EWpnLkaV",
        "outputId": "4ebcd527-b26a-453b-fbfa-7f39b41acf63"
      },
      "source": [
        "# correlation matrix and heat map\n",
        "cm = income.corr()\n",
        "plt.figure(figsize=(15, 10))\n",
        "sns.heatmap(income.corr())\n",
        "cm"
      ],
      "execution_count": null,
      "outputs": [
        {
          "output_type": "execute_result",
          "data": {
            "text/html": [
              "<div>\n",
              "<style scoped>\n",
              "    .dataframe tbody tr th:only-of-type {\n",
              "        vertical-align: middle;\n",
              "    }\n",
              "\n",
              "    .dataframe tbody tr th {\n",
              "        vertical-align: top;\n",
              "    }\n",
              "\n",
              "    .dataframe thead th {\n",
              "        text-align: right;\n",
              "    }\n",
              "</style>\n",
              "<table border=\"1\" class=\"dataframe\">\n",
              "  <thead>\n",
              "    <tr style=\"text-align: right;\">\n",
              "      <th></th>\n",
              "      <th>age</th>\n",
              "      <th>education-num</th>\n",
              "      <th>capital-gain</th>\n",
              "      <th>capital-loss</th>\n",
              "      <th>hours-per-week</th>\n",
              "      <th>income &gt;50K</th>\n",
              "    </tr>\n",
              "  </thead>\n",
              "  <tbody>\n",
              "    <tr>\n",
              "      <th>age</th>\n",
              "      <td>1.000000</td>\n",
              "      <td>0.043526</td>\n",
              "      <td>0.080154</td>\n",
              "      <td>0.060165</td>\n",
              "      <td>0.101599</td>\n",
              "      <td>0.241998</td>\n",
              "    </tr>\n",
              "    <tr>\n",
              "      <th>education-num</th>\n",
              "      <td>0.043526</td>\n",
              "      <td>1.000000</td>\n",
              "      <td>0.124416</td>\n",
              "      <td>0.079646</td>\n",
              "      <td>0.152522</td>\n",
              "      <td>0.335286</td>\n",
              "    </tr>\n",
              "    <tr>\n",
              "      <th>capital-gain</th>\n",
              "      <td>0.080154</td>\n",
              "      <td>0.124416</td>\n",
              "      <td>1.000000</td>\n",
              "      <td>-0.032229</td>\n",
              "      <td>0.080432</td>\n",
              "      <td>0.221196</td>\n",
              "    </tr>\n",
              "    <tr>\n",
              "      <th>capital-loss</th>\n",
              "      <td>0.060165</td>\n",
              "      <td>0.079646</td>\n",
              "      <td>-0.032229</td>\n",
              "      <td>1.000000</td>\n",
              "      <td>0.052417</td>\n",
              "      <td>0.150053</td>\n",
              "    </tr>\n",
              "    <tr>\n",
              "      <th>hours-per-week</th>\n",
              "      <td>0.101599</td>\n",
              "      <td>0.152522</td>\n",
              "      <td>0.080432</td>\n",
              "      <td>0.052417</td>\n",
              "      <td>1.000000</td>\n",
              "      <td>0.229480</td>\n",
              "    </tr>\n",
              "    <tr>\n",
              "      <th>income &gt;50K</th>\n",
              "      <td>0.241998</td>\n",
              "      <td>0.335286</td>\n",
              "      <td>0.221196</td>\n",
              "      <td>0.150053</td>\n",
              "      <td>0.229480</td>\n",
              "      <td>1.000000</td>\n",
              "    </tr>\n",
              "  </tbody>\n",
              "</table>\n",
              "</div>"
            ],
            "text/plain": [
              "                     age  education-num  ...  hours-per-week  income >50K\n",
              "age             1.000000       0.043526  ...        0.101599     0.241998\n",
              "education-num   0.043526       1.000000  ...        0.152522     0.335286\n",
              "capital-gain    0.080154       0.124416  ...        0.080432     0.221196\n",
              "capital-loss    0.060165       0.079646  ...        0.052417     0.150053\n",
              "hours-per-week  0.101599       0.152522  ...        1.000000     0.229480\n",
              "income >50K     0.241998       0.335286  ...        0.229480     1.000000\n",
              "\n",
              "[6 rows x 6 columns]"
            ]
          },
          "metadata": {
            "tags": []
          },
          "execution_count": 9
        },
        {
          "output_type": "display_data",
          "data": {
            "image/png": "[encoded data removed]",
            "text/plain": [
              "<Figure size 1080x720 with 2 Axes>"
            ]
          },
          "metadata": {
            "tags": [],
            "needs_background": "light"
          }
        }
      ]
    },
    {
      "cell_type": "code",
      "metadata": {
        "colab": {
          "base_uri": "https://localhost:8080/",
          "height": 343
        },
        "id": "Dzx-klDvbAU5",
        "outputId": "34098060-218b-47a8-b63f-24e8bf2d5ba3"
      },
      "source": [
        "# drop columns with low correlation to income>50K and keep only the more important features \n",
        "income_clean = income.drop([\"capital-loss\", \"native-country\", \"relationship\"], axis = 1)\n",
        "income_clean.head()"
      ],
      "execution_count": null,
      "outputs": [
        {
          "output_type": "execute_result",
          "data": {
            "text/html": [
              "<div>\n",
              "<style scoped>\n",
              "    .dataframe tbody tr th:only-of-type {\n",
              "        vertical-align: middle;\n",
              "    }\n",
              "\n",
              "    .dataframe tbody tr th {\n",
              "        vertical-align: top;\n",
              "    }\n",
              "\n",
              "    .dataframe thead th {\n",
              "        text-align: right;\n",
              "    }\n",
              "</style>\n",
              "<table border=\"1\" class=\"dataframe\">\n",
              "  <thead>\n",
              "    <tr style=\"text-align: right;\">\n",
              "      <th></th>\n",
              "      <th>age</th>\n",
              "      <th>workclass</th>\n",
              "      <th>education</th>\n",
              "      <th>education-num</th>\n",
              "      <th>marital-status</th>\n",
              "      <th>occupation</th>\n",
              "      <th>race</th>\n",
              "      <th>sex</th>\n",
              "      <th>capital-gain</th>\n",
              "      <th>hours-per-week</th>\n",
              "      <th>income &gt;50K</th>\n",
              "    </tr>\n",
              "  </thead>\n",
              "  <tbody>\n",
              "    <tr>\n",
              "      <th>0</th>\n",
              "      <td>39</td>\n",
              "      <td>State-gov</td>\n",
              "      <td>Bachelors</td>\n",
              "      <td>13</td>\n",
              "      <td>Never-married</td>\n",
              "      <td>Adm-clerical</td>\n",
              "      <td>White</td>\n",
              "      <td>Male</td>\n",
              "      <td>2174</td>\n",
              "      <td>40</td>\n",
              "      <td>0</td>\n",
              "    </tr>\n",
              "    <tr>\n",
              "      <th>1</th>\n",
              "      <td>50</td>\n",
              "      <td>Self-emp-not-inc</td>\n",
              "      <td>Bachelors</td>\n",
              "      <td>13</td>\n",
              "      <td>Married-civ-spouse</td>\n",
              "      <td>Exec-managerial</td>\n",
              "      <td>White</td>\n",
              "      <td>Male</td>\n",
              "      <td>0</td>\n",
              "      <td>13</td>\n",
              "      <td>0</td>\n",
              "    </tr>\n",
              "    <tr>\n",
              "      <th>2</th>\n",
              "      <td>38</td>\n",
              "      <td>Private</td>\n",
              "      <td>HS-grad</td>\n",
              "      <td>9</td>\n",
              "      <td>Divorced</td>\n",
              "      <td>Handlers-cleaners</td>\n",
              "      <td>White</td>\n",
              "      <td>Male</td>\n",
              "      <td>0</td>\n",
              "      <td>40</td>\n",
              "      <td>0</td>\n",
              "    </tr>\n",
              "    <tr>\n",
              "      <th>3</th>\n",
              "      <td>53</td>\n",
              "      <td>Private</td>\n",
              "      <td>11th</td>\n",
              "      <td>7</td>\n",
              "      <td>Married-civ-spouse</td>\n",
              "      <td>Handlers-cleaners</td>\n",
              "      <td>Black</td>\n",
              "      <td>Male</td>\n",
              "      <td>0</td>\n",
              "      <td>40</td>\n",
              "      <td>0</td>\n",
              "    </tr>\n",
              "    <tr>\n",
              "      <th>4</th>\n",
              "      <td>28</td>\n",
              "      <td>Private</td>\n",
              "      <td>Bachelors</td>\n",
              "      <td>13</td>\n",
              "      <td>Married-civ-spouse</td>\n",
              "      <td>Prof-specialty</td>\n",
              "      <td>Black</td>\n",
              "      <td>Female</td>\n",
              "      <td>0</td>\n",
              "      <td>40</td>\n",
              "      <td>0</td>\n",
              "    </tr>\n",
              "  </tbody>\n",
              "</table>\n",
              "</div>"
            ],
            "text/plain": [
              "   age         workclass  education  ...  capital-gain hours-per-week income >50K\n",
              "0   39         State-gov  Bachelors  ...          2174             40           0\n",
              "1   50  Self-emp-not-inc  Bachelors  ...             0             13           0\n",
              "2   38           Private    HS-grad  ...             0             40           0\n",
              "3   53           Private       11th  ...             0             40           0\n",
              "4   28           Private  Bachelors  ...             0             40           0\n",
              "\n",
              "[5 rows x 11 columns]"
            ]
          },
          "metadata": {
            "tags": []
          },
          "execution_count": 10
        }
      ]
    },
    {
      "cell_type": "code",
      "metadata": {
        "colab": {
          "base_uri": "https://localhost:8080/",
          "height": 258
        },
        "id": "pz6IzTV0GdJK",
        "outputId": "10c6af91-fb81-4e44-8990-d84e7683039a"
      },
      "source": [
        "# get dummy variables for object type columns\n",
        "\n",
        "cat = income_clean.select_dtypes(include=['object']).axes[1]\n",
        "for col in cat:\n",
        "    income_clean = pd.concat([income_clean, pd.get_dummies(income_clean[col], prefix=col, prefix_sep=':')], axis=1)\n",
        "    income_clean.drop(col, axis=1, inplace=True)\n",
        "income_clean.head()"
      ],
      "execution_count": null,
      "outputs": [
        {
          "output_type": "execute_result",
          "data": {
            "text/html": [
              "<div>\n",
              "<style scoped>\n",
              "    .dataframe tbody tr th:only-of-type {\n",
              "        vertical-align: middle;\n",
              "    }\n",
              "\n",
              "    .dataframe tbody tr th {\n",
              "        vertical-align: top;\n",
              "    }\n",
              "\n",
              "    .dataframe thead th {\n",
              "        text-align: right;\n",
              "    }\n",
              "</style>\n",
              "<table border=\"1\" class=\"dataframe\">\n",
              "  <thead>\n",
              "    <tr style=\"text-align: right;\">\n",
              "      <th></th>\n",
              "      <th>age</th>\n",
              "      <th>education-num</th>\n",
              "      <th>capital-gain</th>\n",
              "      <th>hours-per-week</th>\n",
              "      <th>income &gt;50K</th>\n",
              "      <th>workclass:Federal-gov</th>\n",
              "      <th>workclass:Local-gov</th>\n",
              "      <th>workclass:Private</th>\n",
              "      <th>workclass:Self-emp-inc</th>\n",
              "      <th>workclass:Self-emp-not-inc</th>\n",
              "      <th>workclass:State-gov</th>\n",
              "      <th>workclass:Without-pay</th>\n",
              "      <th>education:10th</th>\n",
              "      <th>education:11th</th>\n",
              "      <th>education:12th</th>\n",
              "      <th>education:1st-4th</th>\n",
              "      <th>education:5th-6th</th>\n",
              "      <th>education:7th-8th</th>\n",
              "      <th>education:9th</th>\n",
              "      <th>education:Assoc-acdm</th>\n",
              "      <th>education:Assoc-voc</th>\n",
              "      <th>education:Bachelors</th>\n",
              "      <th>education:Doctorate</th>\n",
              "      <th>education:HS-grad</th>\n",
              "      <th>education:Masters</th>\n",
              "      <th>education:Preschool</th>\n",
              "      <th>education:Prof-school</th>\n",
              "      <th>education:Some-college</th>\n",
              "      <th>marital-status:Divorced</th>\n",
              "      <th>marital-status:Married-AF-spouse</th>\n",
              "      <th>marital-status:Married-civ-spouse</th>\n",
              "      <th>marital-status:Married-spouse-absent</th>\n",
              "      <th>marital-status:Never-married</th>\n",
              "      <th>marital-status:Separated</th>\n",
              "      <th>marital-status:Widowed</th>\n",
              "      <th>occupation:Adm-clerical</th>\n",
              "      <th>occupation:Armed-Forces</th>\n",
              "      <th>occupation:Craft-repair</th>\n",
              "      <th>occupation:Exec-managerial</th>\n",
              "      <th>occupation:Farming-fishing</th>\n",
              "      <th>occupation:Handlers-cleaners</th>\n",
              "      <th>occupation:Machine-op-inspct</th>\n",
              "      <th>occupation:Other-service</th>\n",
              "      <th>occupation:Priv-house-serv</th>\n",
              "      <th>occupation:Prof-specialty</th>\n",
              "      <th>occupation:Protective-serv</th>\n",
              "      <th>occupation:Sales</th>\n",
              "      <th>occupation:Tech-support</th>\n",
              "      <th>occupation:Transport-moving</th>\n",
              "      <th>race:Amer-Indian-Eskimo</th>\n",
              "      <th>race:Asian-Pac-Islander</th>\n",
              "      <th>race:Black</th>\n",
              "      <th>race:Other</th>\n",
              "      <th>race:White</th>\n",
              "      <th>sex:Female</th>\n",
              "      <th>sex:Male</th>\n",
              "    </tr>\n",
              "  </thead>\n",
              "  <tbody>\n",
              "    <tr>\n",
              "      <th>0</th>\n",
              "      <td>39</td>\n",
              "      <td>13</td>\n",
              "      <td>2174</td>\n",
              "      <td>40</td>\n",
              "      <td>0</td>\n",
              "      <td>0</td>\n",
              "      <td>0</td>\n",
              "      <td>0</td>\n",
              "      <td>0</td>\n",
              "      <td>0</td>\n",
              "      <td>1</td>\n",
              "      <td>0</td>\n",
              "      <td>0</td>\n",
              "      <td>0</td>\n",
              "      <td>0</td>\n",
              "      <td>0</td>\n",
              "      <td>0</td>\n",
              "      <td>0</td>\n",
              "      <td>0</td>\n",
              "      <td>0</td>\n",
              "      <td>0</td>\n",
              "      <td>1</td>\n",
              "      <td>0</td>\n",
              "      <td>0</td>\n",
              "      <td>0</td>\n",
              "      <td>0</td>\n",
              "      <td>0</td>\n",
              "      <td>0</td>\n",
              "      <td>0</td>\n",
              "      <td>0</td>\n",
              "      <td>0</td>\n",
              "      <td>0</td>\n",
              "      <td>1</td>\n",
              "      <td>0</td>\n",
              "      <td>0</td>\n",
              "      <td>1</td>\n",
              "      <td>0</td>\n",
              "      <td>0</td>\n",
              "      <td>0</td>\n",
              "      <td>0</td>\n",
              "      <td>0</td>\n",
              "      <td>0</td>\n",
              "      <td>0</td>\n",
              "      <td>0</td>\n",
              "      <td>0</td>\n",
              "      <td>0</td>\n",
              "      <td>0</td>\n",
              "      <td>0</td>\n",
              "      <td>0</td>\n",
              "      <td>0</td>\n",
              "      <td>0</td>\n",
              "      <td>0</td>\n",
              "      <td>0</td>\n",
              "      <td>1</td>\n",
              "      <td>0</td>\n",
              "      <td>1</td>\n",
              "    </tr>\n",
              "    <tr>\n",
              "      <th>1</th>\n",
              "      <td>50</td>\n",
              "      <td>13</td>\n",
              "      <td>0</td>\n",
              "      <td>13</td>\n",
              "      <td>0</td>\n",
              "      <td>0</td>\n",
              "      <td>0</td>\n",
              "      <td>0</td>\n",
              "      <td>0</td>\n",
              "      <td>1</td>\n",
              "      <td>0</td>\n",
              "      <td>0</td>\n",
              "      <td>0</td>\n",
              "      <td>0</td>\n",
              "      <td>0</td>\n",
              "      <td>0</td>\n",
              "      <td>0</td>\n",
              "      <td>0</td>\n",
              "      <td>0</td>\n",
              "      <td>0</td>\n",
              "      <td>0</td>\n",
              "      <td>1</td>\n",
              "      <td>0</td>\n",
              "      <td>0</td>\n",
              "      <td>0</td>\n",
              "      <td>0</td>\n",
              "      <td>0</td>\n",
              "      <td>0</td>\n",
              "      <td>0</td>\n",
              "      <td>0</td>\n",
              "      <td>1</td>\n",
              "      <td>0</td>\n",
              "      <td>0</td>\n",
              "      <td>0</td>\n",
              "      <td>0</td>\n",
              "      <td>0</td>\n",
              "      <td>0</td>\n",
              "      <td>0</td>\n",
              "      <td>1</td>\n",
              "      <td>0</td>\n",
              "      <td>0</td>\n",
              "      <td>0</td>\n",
              "      <td>0</td>\n",
              "      <td>0</td>\n",
              "      <td>0</td>\n",
              "      <td>0</td>\n",
              "      <td>0</td>\n",
              "      <td>0</td>\n",
              "      <td>0</td>\n",
              "      <td>0</td>\n",
              "      <td>0</td>\n",
              "      <td>0</td>\n",
              "      <td>0</td>\n",
              "      <td>1</td>\n",
              "      <td>0</td>\n",
              "      <td>1</td>\n",
              "    </tr>\n",
              "    <tr>\n",
              "      <th>2</th>\n",
              "      <td>38</td>\n",
              "      <td>9</td>\n",
              "      <td>0</td>\n",
              "      <td>40</td>\n",
              "      <td>0</td>\n",
              "      <td>0</td>\n",
              "      <td>0</td>\n",
              "      <td>1</td>\n",
              "      <td>0</td>\n",
              "      <td>0</td>\n",
              "      <td>0</td>\n",
              "      <td>0</td>\n",
              "      <td>0</td>\n",
              "      <td>0</td>\n",
              "      <td>0</td>\n",
              "      <td>0</td>\n",
              "      <td>0</td>\n",
              "      <td>0</td>\n",
              "      <td>0</td>\n",
              "      <td>0</td>\n",
              "      <td>0</td>\n",
              "      <td>0</td>\n",
              "      <td>0</td>\n",
              "      <td>1</td>\n",
              "      <td>0</td>\n",
              "      <td>0</td>\n",
              "      <td>0</td>\n",
              "      <td>0</td>\n",
              "      <td>1</td>\n",
              "      <td>0</td>\n",
              "      <td>0</td>\n",
              "      <td>0</td>\n",
              "      <td>0</td>\n",
              "      <td>0</td>\n",
              "      <td>0</td>\n",
              "      <td>0</td>\n",
              "      <td>0</td>\n",
              "      <td>0</td>\n",
              "      <td>0</td>\n",
              "      <td>0</td>\n",
              "      <td>1</td>\n",
              "      <td>0</td>\n",
              "      <td>0</td>\n",
              "      <td>0</td>\n",
              "      <td>0</td>\n",
              "      <td>0</td>\n",
              "      <td>0</td>\n",
              "      <td>0</td>\n",
              "      <td>0</td>\n",
              "      <td>0</td>\n",
              "      <td>0</td>\n",
              "      <td>0</td>\n",
              "      <td>0</td>\n",
              "      <td>1</td>\n",
              "      <td>0</td>\n",
              "      <td>1</td>\n",
              "    </tr>\n",
              "    <tr>\n",
              "      <th>3</th>\n",
              "      <td>53</td>\n",
              "      <td>7</td>\n",
              "      <td>0</td>\n",
              "      <td>40</td>\n",
              "      <td>0</td>\n",
              "      <td>0</td>\n",
              "      <td>0</td>\n",
              "      <td>1</td>\n",
              "      <td>0</td>\n",
              "      <td>0</td>\n",
              "      <td>0</td>\n",
              "      <td>0</td>\n",
              "      <td>0</td>\n",
              "      <td>1</td>\n",
              "      <td>0</td>\n",
              "      <td>0</td>\n",
              "      <td>0</td>\n",
              "      <td>0</td>\n",
              "      <td>0</td>\n",
              "      <td>0</td>\n",
              "      <td>0</td>\n",
              "      <td>0</td>\n",
              "      <td>0</td>\n",
              "      <td>0</td>\n",
              "      <td>0</td>\n",
              "      <td>0</td>\n",
              "      <td>0</td>\n",
              "      <td>0</td>\n",
              "      <td>0</td>\n",
              "      <td>0</td>\n",
              "      <td>1</td>\n",
              "      <td>0</td>\n",
              "      <td>0</td>\n",
              "      <td>0</td>\n",
              "      <td>0</td>\n",
              "      <td>0</td>\n",
              "      <td>0</td>\n",
              "      <td>0</td>\n",
              "      <td>0</td>\n",
              "      <td>0</td>\n",
              "      <td>1</td>\n",
              "      <td>0</td>\n",
              "      <td>0</td>\n",
              "      <td>0</td>\n",
              "      <td>0</td>\n",
              "      <td>0</td>\n",
              "      <td>0</td>\n",
              "      <td>0</td>\n",
              "      <td>0</td>\n",
              "      <td>0</td>\n",
              "      <td>0</td>\n",
              "      <td>1</td>\n",
              "      <td>0</td>\n",
              "      <td>0</td>\n",
              "      <td>0</td>\n",
              "      <td>1</td>\n",
              "    </tr>\n",
              "    <tr>\n",
              "      <th>4</th>\n",
              "      <td>28</td>\n",
              "      <td>13</td>\n",
              "      <td>0</td>\n",
              "      <td>40</td>\n",
              "      <td>0</td>\n",
              "      <td>0</td>\n",
              "      <td>0</td>\n",
              "      <td>1</td>\n",
              "      <td>0</td>\n",
              "      <td>0</td>\n",
              "      <td>0</td>\n",
              "      <td>0</td>\n",
              "      <td>0</td>\n",
              "      <td>0</td>\n",
              "      <td>0</td>\n",
              "      <td>0</td>\n",
              "      <td>0</td>\n",
              "      <td>0</td>\n",
              "      <td>0</td>\n",
              "      <td>0</td>\n",
              "      <td>0</td>\n",
              "      <td>1</td>\n",
              "      <td>0</td>\n",
              "      <td>0</td>\n",
              "      <td>0</td>\n",
              "      <td>0</td>\n",
              "      <td>0</td>\n",
              "      <td>0</td>\n",
              "      <td>0</td>\n",
              "      <td>0</td>\n",
              "      <td>1</td>\n",
              "      <td>0</td>\n",
              "      <td>0</td>\n",
              "      <td>0</td>\n",
              "      <td>0</td>\n",
              "      <td>0</td>\n",
              "      <td>0</td>\n",
              "      <td>0</td>\n",
              "      <td>0</td>\n",
              "      <td>0</td>\n",
              "      <td>0</td>\n",
              "      <td>0</td>\n",
              "      <td>0</td>\n",
              "      <td>0</td>\n",
              "      <td>1</td>\n",
              "      <td>0</td>\n",
              "      <td>0</td>\n",
              "      <td>0</td>\n",
              "      <td>0</td>\n",
              "      <td>0</td>\n",
              "      <td>0</td>\n",
              "      <td>1</td>\n",
              "      <td>0</td>\n",
              "      <td>0</td>\n",
              "      <td>1</td>\n",
              "      <td>0</td>\n",
              "    </tr>\n",
              "  </tbody>\n",
              "</table>\n",
              "</div>"
            ],
            "text/plain": [
              "   age  education-num  capital-gain  ...  race:White  sex:Female  sex:Male\n",
              "0   39             13          2174  ...           1           0         1\n",
              "1   50             13             0  ...           1           0         1\n",
              "2   38              9             0  ...           1           0         1\n",
              "3   53              7             0  ...           0           0         1\n",
              "4   28             13             0  ...           0           1         0\n",
              "\n",
              "[5 rows x 56 columns]"
            ]
          },
          "metadata": {
            "tags": []
          },
          "execution_count": 11
        }
      ]
    },
    {
      "cell_type": "code",
      "metadata": {
        "colab": {
          "base_uri": "https://localhost:8080/",
          "height": 258
        },
        "id": "YO8K2k5kFSnf",
        "outputId": "00f49a35-eaab-4d6b-f1e5-ab47e073b0fd"
      },
      "source": [
        "#move the target variable income >50K back to the end of the dataframe because the order of the columns changed\n",
        "income_clean = income_clean[[col for col in income_clean.columns if col != 'income >50K'] + ['income >50K']]\n",
        "income_clean.head()"
      ],
      "execution_count": null,
      "outputs": [
        {
          "output_type": "execute_result",
          "data": {
            "text/html": [
              "<div>\n",
              "<style scoped>\n",
              "    .dataframe tbody tr th:only-of-type {\n",
              "        vertical-align: middle;\n",
              "    }\n",
              "\n",
              "    .dataframe tbody tr th {\n",
              "        vertical-align: top;\n",
              "    }\n",
              "\n",
              "    .dataframe thead th {\n",
              "        text-align: right;\n",
              "    }\n",
              "</style>\n",
              "<table border=\"1\" class=\"dataframe\">\n",
              "  <thead>\n",
              "    <tr style=\"text-align: right;\">\n",
              "      <th></th>\n",
              "      <th>age</th>\n",
              "      <th>education-num</th>\n",
              "      <th>capital-gain</th>\n",
              "      <th>hours-per-week</th>\n",
              "      <th>workclass:Federal-gov</th>\n",
              "      <th>workclass:Local-gov</th>\n",
              "      <th>workclass:Private</th>\n",
              "      <th>workclass:Self-emp-inc</th>\n",
              "      <th>workclass:Self-emp-not-inc</th>\n",
              "      <th>workclass:State-gov</th>\n",
              "      <th>workclass:Without-pay</th>\n",
              "      <th>education:10th</th>\n",
              "      <th>education:11th</th>\n",
              "      <th>education:12th</th>\n",
              "      <th>education:1st-4th</th>\n",
              "      <th>education:5th-6th</th>\n",
              "      <th>education:7th-8th</th>\n",
              "      <th>education:9th</th>\n",
              "      <th>education:Assoc-acdm</th>\n",
              "      <th>education:Assoc-voc</th>\n",
              "      <th>education:Bachelors</th>\n",
              "      <th>education:Doctorate</th>\n",
              "      <th>education:HS-grad</th>\n",
              "      <th>education:Masters</th>\n",
              "      <th>education:Preschool</th>\n",
              "      <th>education:Prof-school</th>\n",
              "      <th>education:Some-college</th>\n",
              "      <th>marital-status:Divorced</th>\n",
              "      <th>marital-status:Married-AF-spouse</th>\n",
              "      <th>marital-status:Married-civ-spouse</th>\n",
              "      <th>marital-status:Married-spouse-absent</th>\n",
              "      <th>marital-status:Never-married</th>\n",
              "      <th>marital-status:Separated</th>\n",
              "      <th>marital-status:Widowed</th>\n",
              "      <th>occupation:Adm-clerical</th>\n",
              "      <th>occupation:Armed-Forces</th>\n",
              "      <th>occupation:Craft-repair</th>\n",
              "      <th>occupation:Exec-managerial</th>\n",
              "      <th>occupation:Farming-fishing</th>\n",
              "      <th>occupation:Handlers-cleaners</th>\n",
              "      <th>occupation:Machine-op-inspct</th>\n",
              "      <th>occupation:Other-service</th>\n",
              "      <th>occupation:Priv-house-serv</th>\n",
              "      <th>occupation:Prof-specialty</th>\n",
              "      <th>occupation:Protective-serv</th>\n",
              "      <th>occupation:Sales</th>\n",
              "      <th>occupation:Tech-support</th>\n",
              "      <th>occupation:Transport-moving</th>\n",
              "      <th>race:Amer-Indian-Eskimo</th>\n",
              "      <th>race:Asian-Pac-Islander</th>\n",
              "      <th>race:Black</th>\n",
              "      <th>race:Other</th>\n",
              "      <th>race:White</th>\n",
              "      <th>sex:Female</th>\n",
              "      <th>sex:Male</th>\n",
              "      <th>income &gt;50K</th>\n",
              "    </tr>\n",
              "  </thead>\n",
              "  <tbody>\n",
              "    <tr>\n",
              "      <th>0</th>\n",
              "      <td>39</td>\n",
              "      <td>13</td>\n",
              "      <td>2174</td>\n",
              "      <td>40</td>\n",
              "      <td>0</td>\n",
              "      <td>0</td>\n",
              "      <td>0</td>\n",
              "      <td>0</td>\n",
              "      <td>0</td>\n",
              "      <td>1</td>\n",
              "      <td>0</td>\n",
              "      <td>0</td>\n",
              "      <td>0</td>\n",
              "      <td>0</td>\n",
              "      <td>0</td>\n",
              "      <td>0</td>\n",
              "      <td>0</td>\n",
              "      <td>0</td>\n",
              "      <td>0</td>\n",
              "      <td>0</td>\n",
              "      <td>1</td>\n",
              "      <td>0</td>\n",
              "      <td>0</td>\n",
              "      <td>0</td>\n",
              "      <td>0</td>\n",
              "      <td>0</td>\n",
              "      <td>0</td>\n",
              "      <td>0</td>\n",
              "      <td>0</td>\n",
              "      <td>0</td>\n",
              "      <td>0</td>\n",
              "      <td>1</td>\n",
              "      <td>0</td>\n",
              "      <td>0</td>\n",
              "      <td>1</td>\n",
              "      <td>0</td>\n",
              "      <td>0</td>\n",
              "      <td>0</td>\n",
              "      <td>0</td>\n",
              "      <td>0</td>\n",
              "      <td>0</td>\n",
              "      <td>0</td>\n",
              "      <td>0</td>\n",
              "      <td>0</td>\n",
              "      <td>0</td>\n",
              "      <td>0</td>\n",
              "      <td>0</td>\n",
              "      <td>0</td>\n",
              "      <td>0</td>\n",
              "      <td>0</td>\n",
              "      <td>0</td>\n",
              "      <td>0</td>\n",
              "      <td>1</td>\n",
              "      <td>0</td>\n",
              "      <td>1</td>\n",
              "      <td>0</td>\n",
              "    </tr>\n",
              "    <tr>\n",
              "      <th>1</th>\n",
              "      <td>50</td>\n",
              "      <td>13</td>\n",
              "      <td>0</td>\n",
              "      <td>13</td>\n",
              "      <td>0</td>\n",
              "      <td>0</td>\n",
              "      <td>0</td>\n",
              "      <td>0</td>\n",
              "      <td>1</td>\n",
              "      <td>0</td>\n",
              "      <td>0</td>\n",
              "      <td>0</td>\n",
              "      <td>0</td>\n",
              "      <td>0</td>\n",
              "      <td>0</td>\n",
              "      <td>0</td>\n",
              "      <td>0</td>\n",
              "      <td>0</td>\n",
              "      <td>0</td>\n",
              "      <td>0</td>\n",
              "      <td>1</td>\n",
              "      <td>0</td>\n",
              "      <td>0</td>\n",
              "      <td>0</td>\n",
              "      <td>0</td>\n",
              "      <td>0</td>\n",
              "      <td>0</td>\n",
              "      <td>0</td>\n",
              "      <td>0</td>\n",
              "      <td>1</td>\n",
              "      <td>0</td>\n",
              "      <td>0</td>\n",
              "      <td>0</td>\n",
              "      <td>0</td>\n",
              "      <td>0</td>\n",
              "      <td>0</td>\n",
              "      <td>0</td>\n",
              "      <td>1</td>\n",
              "      <td>0</td>\n",
              "      <td>0</td>\n",
              "      <td>0</td>\n",
              "      <td>0</td>\n",
              "      <td>0</td>\n",
              "      <td>0</td>\n",
              "      <td>0</td>\n",
              "      <td>0</td>\n",
              "      <td>0</td>\n",
              "      <td>0</td>\n",
              "      <td>0</td>\n",
              "      <td>0</td>\n",
              "      <td>0</td>\n",
              "      <td>0</td>\n",
              "      <td>1</td>\n",
              "      <td>0</td>\n",
              "      <td>1</td>\n",
              "      <td>0</td>\n",
              "    </tr>\n",
              "    <tr>\n",
              "      <th>2</th>\n",
              "      <td>38</td>\n",
              "      <td>9</td>\n",
              "      <td>0</td>\n",
              "      <td>40</td>\n",
              "      <td>0</td>\n",
              "      <td>0</td>\n",
              "      <td>1</td>\n",
              "      <td>0</td>\n",
              "      <td>0</td>\n",
              "      <td>0</td>\n",
              "      <td>0</td>\n",
              "      <td>0</td>\n",
              "      <td>0</td>\n",
              "      <td>0</td>\n",
              "      <td>0</td>\n",
              "      <td>0</td>\n",
              "      <td>0</td>\n",
              "      <td>0</td>\n",
              "      <td>0</td>\n",
              "      <td>0</td>\n",
              "      <td>0</td>\n",
              "      <td>0</td>\n",
              "      <td>1</td>\n",
              "      <td>0</td>\n",
              "      <td>0</td>\n",
              "      <td>0</td>\n",
              "      <td>0</td>\n",
              "      <td>1</td>\n",
              "      <td>0</td>\n",
              "      <td>0</td>\n",
              "      <td>0</td>\n",
              "      <td>0</td>\n",
              "      <td>0</td>\n",
              "      <td>0</td>\n",
              "      <td>0</td>\n",
              "      <td>0</td>\n",
              "      <td>0</td>\n",
              "      <td>0</td>\n",
              "      <td>0</td>\n",
              "      <td>1</td>\n",
              "      <td>0</td>\n",
              "      <td>0</td>\n",
              "      <td>0</td>\n",
              "      <td>0</td>\n",
              "      <td>0</td>\n",
              "      <td>0</td>\n",
              "      <td>0</td>\n",
              "      <td>0</td>\n",
              "      <td>0</td>\n",
              "      <td>0</td>\n",
              "      <td>0</td>\n",
              "      <td>0</td>\n",
              "      <td>1</td>\n",
              "      <td>0</td>\n",
              "      <td>1</td>\n",
              "      <td>0</td>\n",
              "    </tr>\n",
              "    <tr>\n",
              "      <th>3</th>\n",
              "      <td>53</td>\n",
              "      <td>7</td>\n",
              "      <td>0</td>\n",
              "      <td>40</td>\n",
              "      <td>0</td>\n",
              "      <td>0</td>\n",
              "      <td>1</td>\n",
              "      <td>0</td>\n",
              "      <td>0</td>\n",
              "      <td>0</td>\n",
              "      <td>0</td>\n",
              "      <td>0</td>\n",
              "      <td>1</td>\n",
              "      <td>0</td>\n",
              "      <td>0</td>\n",
              "      <td>0</td>\n",
              "      <td>0</td>\n",
              "      <td>0</td>\n",
              "      <td>0</td>\n",
              "      <td>0</td>\n",
              "      <td>0</td>\n",
              "      <td>0</td>\n",
              "      <td>0</td>\n",
              "      <td>0</td>\n",
              "      <td>0</td>\n",
              "      <td>0</td>\n",
              "      <td>0</td>\n",
              "      <td>0</td>\n",
              "      <td>0</td>\n",
              "      <td>1</td>\n",
              "      <td>0</td>\n",
              "      <td>0</td>\n",
              "      <td>0</td>\n",
              "      <td>0</td>\n",
              "      <td>0</td>\n",
              "      <td>0</td>\n",
              "      <td>0</td>\n",
              "      <td>0</td>\n",
              "      <td>0</td>\n",
              "      <td>1</td>\n",
              "      <td>0</td>\n",
              "      <td>0</td>\n",
              "      <td>0</td>\n",
              "      <td>0</td>\n",
              "      <td>0</td>\n",
              "      <td>0</td>\n",
              "      <td>0</td>\n",
              "      <td>0</td>\n",
              "      <td>0</td>\n",
              "      <td>0</td>\n",
              "      <td>1</td>\n",
              "      <td>0</td>\n",
              "      <td>0</td>\n",
              "      <td>0</td>\n",
              "      <td>1</td>\n",
              "      <td>0</td>\n",
              "    </tr>\n",
              "    <tr>\n",
              "      <th>4</th>\n",
              "      <td>28</td>\n",
              "      <td>13</td>\n",
              "      <td>0</td>\n",
              "      <td>40</td>\n",
              "      <td>0</td>\n",
              "      <td>0</td>\n",
              "      <td>1</td>\n",
              "      <td>0</td>\n",
              "      <td>0</td>\n",
              "      <td>0</td>\n",
              "      <td>0</td>\n",
              "      <td>0</td>\n",
              "      <td>0</td>\n",
              "      <td>0</td>\n",
              "      <td>0</td>\n",
              "      <td>0</td>\n",
              "      <td>0</td>\n",
              "      <td>0</td>\n",
              "      <td>0</td>\n",
              "      <td>0</td>\n",
              "      <td>1</td>\n",
              "      <td>0</td>\n",
              "      <td>0</td>\n",
              "      <td>0</td>\n",
              "      <td>0</td>\n",
              "      <td>0</td>\n",
              "      <td>0</td>\n",
              "      <td>0</td>\n",
              "      <td>0</td>\n",
              "      <td>1</td>\n",
              "      <td>0</td>\n",
              "      <td>0</td>\n",
              "      <td>0</td>\n",
              "      <td>0</td>\n",
              "      <td>0</td>\n",
              "      <td>0</td>\n",
              "      <td>0</td>\n",
              "      <td>0</td>\n",
              "      <td>0</td>\n",
              "      <td>0</td>\n",
              "      <td>0</td>\n",
              "      <td>0</td>\n",
              "      <td>0</td>\n",
              "      <td>1</td>\n",
              "      <td>0</td>\n",
              "      <td>0</td>\n",
              "      <td>0</td>\n",
              "      <td>0</td>\n",
              "      <td>0</td>\n",
              "      <td>0</td>\n",
              "      <td>1</td>\n",
              "      <td>0</td>\n",
              "      <td>0</td>\n",
              "      <td>1</td>\n",
              "      <td>0</td>\n",
              "      <td>0</td>\n",
              "    </tr>\n",
              "  </tbody>\n",
              "</table>\n",
              "</div>"
            ],
            "text/plain": [
              "   age  education-num  capital-gain  ...  sex:Female  sex:Male  income >50K\n",
              "0   39             13          2174  ...           0         1            0\n",
              "1   50             13             0  ...           0         1            0\n",
              "2   38              9             0  ...           0         1            0\n",
              "3   53              7             0  ...           0         1            0\n",
              "4   28             13             0  ...           1         0            0\n",
              "\n",
              "[5 rows x 56 columns]"
            ]
          },
          "metadata": {
            "tags": []
          },
          "execution_count": 12
        }
      ]
    },
    {
      "cell_type": "code",
      "metadata": {
        "colab": {
          "base_uri": "https://localhost:8080/"
        },
        "id": "Ha9w8YDQ-gNp",
        "outputId": "653e3358-efe8-4ecf-8317-9e6fab398392"
      },
      "source": [
        "#split into features and target\n",
        "X = income_clean.iloc[:,0:-1] \n",
        "y = income_clean['income >50K']\n",
        "\n",
        "X.head()\n",
        "y.head()"
      ],
      "execution_count": null,
      "outputs": [
        {
          "output_type": "execute_result",
          "data": {
            "text/plain": [
              "0    0\n",
              "1    0\n",
              "2    0\n",
              "3    0\n",
              "4    0\n",
              "Name: income >50K, dtype: int64"
            ]
          },
          "metadata": {
            "tags": []
          },
          "execution_count": 13
        }
      ]
    },
    {
      "cell_type": "code",
      "metadata": {
        "id": "PGYVj1kk-m1x"
      },
      "source": [
        "# split into test and train\n",
        "X_train,X_test,y_train,y_test=train_test_split(X,y,test_size=0.25,random_state=0)"
      ],
      "execution_count": null,
      "outputs": []
    },
    {
      "cell_type": "code",
      "metadata": {
        "colab": {
          "base_uri": "https://localhost:8080/"
        },
        "id": "er970jxm8Q2a",
        "outputId": "43f78672-a466-43b1-ad00-0d87a98b0a1b"
      },
      "source": [
        "# get shape of each\n",
        "X_train.shape, y_train.shape, X_test.shape, y_test.shape"
      ],
      "execution_count": null,
      "outputs": [
        {
          "output_type": "execute_result",
          "data": {
            "text/plain": [
              "((22621, 55), (22621,), (7541, 55), (7541,))"
            ]
          },
          "metadata": {
            "tags": []
          },
          "execution_count": 15
        }
      ]
    },
    {
      "cell_type": "code",
      "metadata": {
        "id": "3jdweuYzNu7-",
        "colab": {
          "base_uri": "https://localhost:8080/"
        },
        "outputId": "1bfd850e-30c4-47d1-ed2e-74517972d19c"
      },
      "source": [
        "#logistic regression\n",
        "LogReg = LogisticRegression()\n",
        "\n",
        "scaler = preprocessing.StandardScaler()\n",
        "X_train = scaler.fit_transform(X_train)\n",
        "X_test = scaler.transform(X_test)\n",
        "\n",
        "LogReg.fit(X_train,y_train)\n",
        "\n",
        "\n",
        "y_pred=LogReg.predict(X_test)\n",
        "\n",
        "print('Classes', LogReg.classes_)\n",
        "print('Intercept',LogReg.intercept_)\n",
        "print(\"Coefficients\", LogReg.coef_)\n",
        "\n",
        "print(\"Accuracy\", LogReg.score(X_test, y_test))\n",
        "print(classification_report(y_test, LogReg.predict(X_test)))"
      ],
      "execution_count": null,
      "outputs": [
        {
          "output_type": "stream",
          "text": [
            "Classes [0 1]\n",
            "Intercept [-1.8432023]\n",
            "Coefficients [[ 3.63057408e-01  3.81116781e-01  2.29788636e+00  3.53781870e-01\n",
            "   1.25989742e-01 -4.25362937e-02  5.52805017e-02  4.54107703e-02\n",
            "  -1.09274707e-01 -5.20564712e-02 -1.49302240e-01 -6.73337678e-02\n",
            "  -8.21103207e-02 -5.75571724e-02 -5.17040821e-02 -8.08774179e-02\n",
            "  -7.98281339e-02 -1.10170276e-01 -2.43926154e-02 -2.57687841e-02\n",
            "   1.53258908e-01  1.11625311e-01 -5.41624093e-02  1.49287658e-01\n",
            "  -4.80950986e-01  1.47052853e-01 -2.50742784e-03 -2.25543874e-01\n",
            "   6.43229041e-02  7.71424592e-01 -7.15584661e-02 -5.57531806e-01\n",
            "  -1.21606674e-01 -1.08904902e-01  4.55053419e-04 -8.82497646e-02\n",
            "  -6.54472045e-03  2.61375496e-01 -1.96416966e-01 -1.64334034e-01\n",
            "  -9.07944774e-02 -2.56171717e-01 -2.57574703e-01  1.67525392e-01\n",
            "   8.25163776e-02  7.56095110e-02  1.13383195e-01 -4.26215249e-02\n",
            "  -4.12647512e-02 -1.14073206e-03 -1.47561693e-02 -5.74391271e-02\n",
            "   3.88326429e-02 -3.45365119e-02  3.45365119e-02]]\n",
            "Accuracy 0.8399416523007559\n",
            "              precision    recall  f1-score   support\n",
            "\n",
            "           0       0.87      0.93      0.90      5639\n",
            "           1       0.73      0.59      0.65      1902\n",
            "\n",
            "    accuracy                           0.84      7541\n",
            "   macro avg       0.80      0.76      0.77      7541\n",
            "weighted avg       0.83      0.84      0.83      7541\n",
            "\n"
          ],
          "name": "stdout"
        }
      ]
    },
    {
      "cell_type": "code",
      "metadata": {
        "colab": {
          "base_uri": "https://localhost:8080/"
        },
        "id": "gJhXLywc3KeP",
        "outputId": "085121ea-10a2-42a7-bc14-0f2479a43cd0"
      },
      "source": [
        "# decision tree classification \n",
        "dtc = DecisionTreeClassifier(criterion='entropy', random_state=0)\n",
        "dtc.fit(X_train,y_train)\n",
        "y_pred= dtc.predict(X_test)\n",
        "accuracy_score(y_test, y_pred)"
      ],
      "execution_count": null,
      "outputs": [
        {
          "output_type": "execute_result",
          "data": {
            "text/plain": [
              "0.8006895637183398"
            ]
          },
          "metadata": {
            "tags": []
          },
          "execution_count": 17
        }
      ]
    },
    {
      "cell_type": "code",
      "metadata": {
        "colab": {
          "base_uri": "https://localhost:8080/",
          "height": 683
        },
        "id": "99fxIDwK49hZ",
        "outputId": "758f4d3f-4489-4fd3-9f8c-552979359254"
      },
      "source": [
        "# tree.plot_tree \n",
        "fig, ax = plt.subplots(figsize=(12, 12))\n",
        "tree.plot_tree(decision_tree=dtc, max_depth= 3,fontsize=12);"
      ],
      "execution_count": null,
      "outputs": [
        {
          "output_type": "display_data",
          "data": {
            "image/png": "[encoded data removed]",
            "text/plain": [
              "<Figure size 864x864 with 1 Axes>"
            ]
          },
          "metadata": {
            "tags": [],
            "needs_background": "light"
          }
        }
      ]
    },
    {
      "cell_type": "code",
      "metadata": {
        "colab": {
          "base_uri": "https://localhost:8080/",
          "height": 312
        },
        "id": "eEggWx5E5W3w",
        "outputId": "4e2ecc7b-cfa0-4d5c-f8dd-0494d4fd3a6c"
      },
      "source": [
        "#xgboost with display of feature importance\n",
        "xg_cl = xgb.XGBClassifier(objective='binary:logistic', max_depth=10, n_estimators=20, seed=99) \n",
        "xg_cl.fit(X_train, y_train)\n",
        "preds = xg_cl.predict(X_test)\n",
        "accuracy = float(np.sum(preds==y_test))/y_test.shape[0]\n",
        "print(\"accuracy: %f\" % (accuracy))\n",
        "xgb.plot_importance(xg_cl)\n",
        "plt.show()"
      ],
      "execution_count": null,
      "outputs": [
        {
          "output_type": "stream",
          "text": [
            "accuracy: 0.851346\n"
          ],
          "name": "stdout"
        },
        {
          "output_type": "display_data",
          "data": {
            "image/png": "[encoded data removed]",
            "text/plain": [
              "<Figure size 432x288 with 1 Axes>"
            ]
          },
          "metadata": {
            "tags": [],
            "needs_background": "light"
          }
        }
      ]
    },
    {
      "cell_type": "code",
      "metadata": {
        "colab": {
          "base_uri": "https://localhost:8080/",
          "height": 1000
        },
        "id": "p3ZQxKOEGbZi",
        "outputId": "9a1f18a6-b849-45fb-dfc6-ccdb72aa0361"
      },
      "source": [
        "# decision tree for feature importance on a classification problem\n",
        "# define dataset\n",
        "X, y = make_classification(n_samples=1000, n_features=55, n_informative=5, n_redundant=5, random_state=1)\n",
        "# define the model\n",
        "model = DecisionTreeClassifier()\n",
        "# fit the model\n",
        "model.fit(X, y)\n",
        "# get importance\n",
        "importance = model.feature_importances_\n",
        "# summarize feature importance\n",
        "for i,v in enumerate(importance):\n",
        "\tprint('Feature: %0d, Score: %.5f' % (i,v))\n",
        "# plot feature importance\n",
        "pyplot.bar([x for x in range(len(importance))], importance)\n",
        "pyplot.show()"
      ],
      "execution_count": null,
      "outputs": [
        {
          "output_type": "stream",
          "text": [
            "Feature: 0, Score: 0.00771\n",
            "Feature: 1, Score: 0.34177\n",
            "Feature: 2, Score: 0.00000\n",
            "Feature: 3, Score: 0.00615\n",
            "Feature: 4, Score: 0.07588\n",
            "Feature: 5, Score: 0.01769\n",
            "Feature: 6, Score: 0.00848\n",
            "Feature: 7, Score: 0.00000\n",
            "Feature: 8, Score: 0.00375\n",
            "Feature: 9, Score: 0.00367\n",
            "Feature: 10, Score: 0.00879\n",
            "Feature: 11, Score: 0.00195\n",
            "Feature: 12, Score: 0.00533\n",
            "Feature: 13, Score: 0.00000\n",
            "Feature: 14, Score: 0.00000\n",
            "Feature: 15, Score: 0.00000\n",
            "Feature: 16, Score: 0.00187\n",
            "Feature: 17, Score: 0.00373\n",
            "Feature: 18, Score: 0.00000\n",
            "Feature: 19, Score: 0.01106\n",
            "Feature: 20, Score: 0.00362\n",
            "Feature: 21, Score: 0.00320\n",
            "Feature: 22, Score: 0.00200\n",
            "Feature: 23, Score: 0.00000\n",
            "Feature: 24, Score: 0.00702\n",
            "Feature: 25, Score: 0.00000\n",
            "Feature: 26, Score: 0.00393\n",
            "Feature: 27, Score: 0.01022\n",
            "Feature: 28, Score: 0.00185\n",
            "Feature: 29, Score: 0.00374\n",
            "Feature: 30, Score: 0.18047\n",
            "Feature: 31, Score: 0.01156\n",
            "Feature: 32, Score: 0.01067\n",
            "Feature: 33, Score: 0.00450\n",
            "Feature: 34, Score: 0.00000\n",
            "Feature: 35, Score: 0.00000\n",
            "Feature: 36, Score: 0.00000\n",
            "Feature: 37, Score: 0.00584\n",
            "Feature: 38, Score: 0.09238\n",
            "Feature: 39, Score: 0.00000\n",
            "Feature: 40, Score: 0.00365\n",
            "Feature: 41, Score: 0.01974\n",
            "Feature: 42, Score: 0.00000\n",
            "Feature: 43, Score: 0.00000\n",
            "Feature: 44, Score: 0.00572\n",
            "Feature: 45, Score: 0.04896\n",
            "Feature: 46, Score: 0.00610\n",
            "Feature: 47, Score: 0.02880\n",
            "Feature: 48, Score: 0.00960\n",
            "Feature: 49, Score: 0.00600\n",
            "Feature: 50, Score: 0.00822\n",
            "Feature: 51, Score: 0.01107\n",
            "Feature: 52, Score: 0.00672\n",
            "Feature: 53, Score: 0.00000\n",
            "Feature: 54, Score: 0.00659\n"
          ],
          "name": "stdout"
        },
        {
          "output_type": "display_data",
          "data": {
            "image/png": "[encoded data removed]",
            "text/plain": [
              "<Figure size 432x288 with 1 Axes>"
            ]
          },
          "metadata": {
            "tags": [],
            "needs_background": "light"
          }
        }
      ]
    },
    {
      "cell_type": "code",
      "metadata": {
        "id": "fYmbf3lZHs1W",
        "colab": {
          "base_uri": "https://localhost:8080/"
        },
        "outputId": "4d5c9d05-6c34-43ea-b1df-f0ef5546c53b"
      },
      "source": [
        "# neural networks - keras (binary classification)\n",
        "from keras.models import Sequential\n",
        "from keras.layers import Dense\n",
        "\n",
        "model = Sequential()\n",
        "model.add(Dense(1, input_shape= (55,), activation = 'sigmoid'))\n",
        "model.compile(optimizer = \"sgd\", loss = \"binary_crossentropy\", metrics = [\"accuracy\"])\n",
        "model.summary()"
      ],
      "execution_count": null,
      "outputs": [
        {
          "output_type": "stream",
          "text": [
            "Model: \"sequential\"\n",
            "_________________________________________________________________\n",
            "Layer (type)                 Output Shape              Param #   \n",
            "=================================================================\n",
            "dense (Dense)                (None, 1)                 56        \n",
            "=================================================================\n",
            "Total params: 56\n",
            "Trainable params: 56\n",
            "Non-trainable params: 0\n",
            "_________________________________________________________________\n"
          ],
          "name": "stdout"
        }
      ]
    },
    {
      "cell_type": "code",
      "metadata": {
        "colab": {
          "base_uri": "https://localhost:8080/"
        },
        "id": "RSs_cWU6NMtH",
        "outputId": "37db0674-dff2-4132-ba2b-98ace6b0f04f"
      },
      "source": [
        "model.fit(X_train, y_train, epochs = 20)\n",
        "accuracy = model.evaluate(X_test, y_test)[1]\n",
        "print(\"Accuracy: \",accuracy)"
      ],
      "execution_count": null,
      "outputs": [
        {
          "output_type": "stream",
          "text": [
            "Epoch 1/20\n",
            "707/707 [==============================] - 2s 1ms/step - loss: 0.6075 - accuracy: 0.6836\n",
            "Epoch 2/20\n",
            "707/707 [==============================] - 1s 1ms/step - loss: 0.3825 - accuracy: 0.8315\n",
            "Epoch 3/20\n",
            "707/707 [==============================] - 1s 1ms/step - loss: 0.3591 - accuracy: 0.8375\n",
            "Epoch 4/20\n",
            "707/707 [==============================] - 1s 1ms/step - loss: 0.3451 - accuracy: 0.8418\n",
            "Epoch 5/20\n",
            "707/707 [==============================] - 1s 1ms/step - loss: 0.3452 - accuracy: 0.8384\n",
            "Epoch 6/20\n",
            "707/707 [==============================] - 1s 1ms/step - loss: 0.3418 - accuracy: 0.8414\n",
            "Epoch 7/20\n",
            "707/707 [==============================] - 1s 1ms/step - loss: 0.3409 - accuracy: 0.8407\n",
            "Epoch 8/20\n",
            "707/707 [==============================] - 1s 1ms/step - loss: 0.3424 - accuracy: 0.8400\n",
            "Epoch 9/20\n",
            "707/707 [==============================] - 1s 1ms/step - loss: 0.3301 - accuracy: 0.8481\n",
            "Epoch 10/20\n",
            "707/707 [==============================] - 1s 1ms/step - loss: 0.3340 - accuracy: 0.8461\n",
            "Epoch 11/20\n",
            "707/707 [==============================] - 1s 1ms/step - loss: 0.3356 - accuracy: 0.8433\n",
            "Epoch 12/20\n",
            "707/707 [==============================] - 1s 1ms/step - loss: 0.3342 - accuracy: 0.8448\n",
            "Epoch 13/20\n",
            "707/707 [==============================] - 1s 1ms/step - loss: 0.3331 - accuracy: 0.8443\n",
            "Epoch 14/20\n",
            "707/707 [==============================] - 1s 1ms/step - loss: 0.3350 - accuracy: 0.8458\n",
            "Epoch 15/20\n",
            "707/707 [==============================] - 1s 1ms/step - loss: 0.3372 - accuracy: 0.8450\n",
            "Epoch 16/20\n",
            "707/707 [==============================] - 1s 1ms/step - loss: 0.3312 - accuracy: 0.8471\n",
            "Epoch 17/20\n",
            "707/707 [==============================] - 1s 1ms/step - loss: 0.3336 - accuracy: 0.8479\n",
            "Epoch 18/20\n",
            "707/707 [==============================] - 1s 1ms/step - loss: 0.3406 - accuracy: 0.8424\n",
            "Epoch 19/20\n",
            "707/707 [==============================] - 1s 1ms/step - loss: 0.3381 - accuracy: 0.8409\n",
            "Epoch 20/20\n",
            "707/707 [==============================] - 1s 1ms/step - loss: 0.3330 - accuracy: 0.8460\n",
            "236/236 [==============================] - 0s 1ms/step - loss: 0.3481 - accuracy: 0.8387\n",
            "Accuracy:  0.8387481570243835\n"
          ],
          "name": "stdout"
        }
      ]
    },
    {
      "cell_type": "code",
      "metadata": {
        "id": "TYh0wEwLtDmk",
        "colab": {
          "base_uri": "https://localhost:8080/"
        },
        "outputId": "530f7b5f-0041-463d-94b5-cc5e91d79477"
      },
      "source": [
        "# neural networks - pytorch\n",
        "# input layer - number of neurons is equal to number of features/columns (55)\n",
        "# output layer - number of classes (0 or 1 for income >50k)\n",
        "# hidden layer - 28 (average of input and output layers)\n",
        "import torch \n",
        "import torch.nn as nn\n",
        "import torchvision\n",
        "import torch.utils.data\n",
        "import torchvision.transforms as transforms\n",
        "import torch\n",
        "\n",
        "class Net(nn.Module):\n",
        "  def __init__(self, n_features):\n",
        "    super(Net, self).__init__()\n",
        "    self.fc1 = nn.Linear(n_features, 55)\n",
        "    self.fc2 = nn.Linear(110, 110)\n",
        "    self.fc3 = nn.Linear(110, 2)\n",
        "  def forward(self, x):\n",
        "    x = F.relu(self.fc1(x))\n",
        "    x = F.relu(self.fc2(x))\n",
        "    return torch.sigmoid(self.fc3(x))\n",
        "net = Net(X_train.shape[1])\n",
        "print(net)\n"
      ],
      "execution_count": null,
      "outputs": [
        {
          "output_type": "stream",
          "text": [
            "Net(\n",
            "  (fc1): Linear(in_features=55, out_features=55, bias=True)\n",
            "  (fc2): Linear(in_features=110, out_features=110, bias=True)\n",
            "  (fc3): Linear(in_features=110, out_features=2, bias=True)\n",
            ")\n"
          ],
          "name": "stdout"
        }
      ]
    },
    {
      "cell_type": "markdown",
      "metadata": {
        "id": "-YZ17RHdwiaY"
      },
      "source": [
        "Compare results of the algorithms\n",
        "\n",
        "*   logistic regresssion accuracy: 0.839\n",
        "*   decision tree accuracy: 0.800\n",
        "* xgboost accuracy: 0.851\n",
        "* keras accuracy: 0.838"
      ]
    }
  ]
}